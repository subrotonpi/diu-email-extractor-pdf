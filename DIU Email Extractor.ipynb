{
 "cells": [
  {
   "cell_type": "code",
   "execution_count": 12,
   "metadata": {},
   "outputs": [
    {
     "name": "stdout",
     "output_type": "stream",
     "text": [
      "List of documents to process ['6.pdf', '5.pdf', '4.pdf', '1.pdf', '3.pdf', '2.pdf']\n",
      "Now processing: 6.pdf\n",
      "Email address found in this page: 29\n",
      "Total so far : 141\n",
      "Now processing: 5.pdf\n",
      "Email address found in this page: 21\n",
      "Total so far : 141\n",
      "Now processing: 4.pdf\n",
      "Email address found in this page: 29\n",
      "Total so far : 141\n",
      "Now processing: 1.pdf\n",
      "Email address found in this page: 20\n",
      "Total so far : 141\n",
      "Now processing: 3.pdf\n",
      "Email address found in this page: 21\n",
      "Total so far : 141\n",
      "Now processing: 2.pdf\n",
      "Email address found in this page: 21\n",
      "Total so far : 141\n",
      "Saevd to file\n"
     ]
    }
   ],
   "source": [
    "import re, os, PyPDF2\n",
    "emails = []\n",
    "#read file\n",
    "#replace path with your directory\n",
    "path = '/Users/antique/Documents/DIU email extractor/PDFs/'\n",
    "print ('List of documents to process',os.listdir(path))\n",
    "\n",
    "for file in os.listdir(path):\n",
    "    if file.endswith(\".pdf\"):\n",
    "        pdf_f = open(path+''+file, 'rb') \n",
    "        print('Now processing:', file)\n",
    "        pdf_reader = PyPDF2.PdfFileReader(pdf_f)\n",
    "        num_of_pages = pdf_reader.numPages\n",
    "        for n in range(0, num_of_pages):\n",
    "            page = pdf_reader.getPage(n) \n",
    "            s = page.extractText() #texts\n",
    "            lst = re.findall(r'[a-z]+15-[0-9]+@diu.edu.bd', s) #email regex\n",
    "            print('Email address found in this page:', len(lst))\n",
    "            emails.extend(lst)\n",
    "            print('Total so far :',len( all_email))\n",
    "        pdf_f.close() \n",
    "\n",
    "#print(emails)\n",
    "#save to text file\n",
    "import pandas as pd    \n",
    "df = pd.DataFrame(emails)\n",
    "#csv_data = df.to_csv(index=False, header=False)\n",
    "df.to_csv('emails.csv', index=False, header=False)\n",
    "print('Saevd to file')"
   ]
  },
  {
   "cell_type": "code",
   "execution_count": null,
   "metadata": {},
   "outputs": [],
   "source": []
  }
 ],
 "metadata": {
  "kernelspec": {
   "display_name": "Python 3",
   "language": "python",
   "name": "python3"
  },
  "language_info": {
   "codemirror_mode": {
    "name": "ipython",
    "version": 3
   },
   "file_extension": ".py",
   "mimetype": "text/x-python",
   "name": "python",
   "nbconvert_exporter": "python",
   "pygments_lexer": "ipython3",
   "version": "3.7.6"
  }
 },
 "nbformat": 4,
 "nbformat_minor": 4
}

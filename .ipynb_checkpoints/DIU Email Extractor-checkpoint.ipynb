{
 "cells": [
  {
   "cell_type": "code",
   "execution_count": 3,
   "metadata": {},
   "outputs": [
    {
     "name": "stdout",
     "output_type": "stream",
     "text": [
      "List of documents to process ['.DS_Store', 'SecWiseStudent_346199682_1611174600134.pdf', 'SecWiseStudent_346199682_1611174613435.pdf', 'SecWiseStudent_346199682_1611174596597.pdf', 'SecWiseStudent_346199682_1611173906817.pdf', 'SecWiseStudent_346199682_1611174585937.pdf', 'SecWiseStudent_346199682_1611174609801.pdf']\n",
      "Now processing: SecWiseStudent_346199682_1611174600134.pdf\n",
      "Email address found in this page: 31\n",
      "Email address found in this page: 4\n",
      "Now processing: SecWiseStudent_346199682_1611174613435.pdf\n",
      "Email address found in this page: 32\n",
      "Email address found in this page: 0\n",
      "Now processing: SecWiseStudent_346199682_1611174596597.pdf\n",
      "Email address found in this page: 32\n",
      "Email address found in this page: 3\n",
      "Now processing: SecWiseStudent_346199682_1611173906817.pdf\n",
      "Email address found in this page: 32\n",
      "Email address found in this page: 3\n",
      "Now processing: SecWiseStudent_346199682_1611174585937.pdf\n",
      "Email address found in this page: 32\n",
      "Email address found in this page: 3\n",
      "Now processing: SecWiseStudent_346199682_1611174609801.pdf\n",
      "Email address found in this page: 31\n",
      "Email address found in this page: 0\n",
      "Saevd to file\n"
     ]
    }
   ],
   "source": [
    "import re, os, PyPDF2\n",
    "emails = []\n",
    "#read file\n",
    "#replace path with your directory\n",
    "path = '/Users/antique/Documents/GitHub/Sites/diu-email-extractor-pdf/PDFs/'\n",
    "print ('List of documents to process',os.listdir(path))\n",
    "\n",
    "for file in os.listdir(path):\n",
    "    if file.endswith(\".pdf\"):\n",
    "        pdf_f = open(path+''+file, 'rb') \n",
    "        print('Now processing:', file)\n",
    "        pdf_reader = PyPDF2.PdfFileReader(pdf_f)\n",
    "        num_of_pages = pdf_reader.numPages\n",
    "        for n in range(0, num_of_pages):\n",
    "            page = pdf_reader.getPage(n) \n",
    "            s = page.extractText() #texts\n",
    "            lst = re.findall(r'[a-z]+15-[0-9]+@diu.edu.bd', s) #email regex\n",
    "            print('Email address found in this page:', len(lst))\n",
    "            emails.extend(lst)\n",
    "            #print('Total so far :',len( all_email))\n",
    "        pdf_f.close() \n",
    "\n",
    "#print(emails)\n",
    "#save to text file\n",
    "import pandas as pd    \n",
    "df = pd.DataFrame(emails)\n",
    "#csv_data = df.to_csv(index=False, header=False)\n",
    "df.to_csv('emails.csv', index=False, header=False)\n",
    "print('Saevd to file')"
   ]
  },
  {
   "cell_type": "code",
   "execution_count": null,
   "metadata": {},
   "outputs": [],
   "source": []
  }
 ],
 "metadata": {
  "kernelspec": {
   "display_name": "Python 3",
   "language": "python",
   "name": "python3"
  },
  "language_info": {
   "codemirror_mode": {
    "name": "ipython",
    "version": 3
   },
   "file_extension": ".py",
   "mimetype": "text/x-python",
   "name": "python",
   "nbconvert_exporter": "python",
   "pygments_lexer": "ipython3",
   "version": "3.7.6"
  }
 },
 "nbformat": 4,
 "nbformat_minor": 4
}
